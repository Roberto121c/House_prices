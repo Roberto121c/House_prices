{
 "cells": [
  {
   "cell_type": "markdown",
   "metadata": {},
   "source": [
    "### HOUSE PRICING 1 : EXTRACTION "
   ]
  },
  {
   "cell_type": "markdown",
   "metadata": {},
   "source": [
    "Import the necessary libraries"
   ]
  },
  {
   "cell_type": "code",
   "execution_count": 2,
   "metadata": {},
   "outputs": [],
   "source": [
    "from bs4 import BeautifulSoup\n",
    "import pandas as pd\n",
    "import requests\n",
    "import boto3\n",
    "import numpy as np\n",
    "from geopy.geocoders import Nominatim"
   ]
  },
  {
   "cell_type": "markdown",
   "metadata": {},
   "source": [
    "Set the parameters to start our AWS client"
   ]
  },
  {
   "cell_type": "code",
   "execution_count": 3,
   "metadata": {},
   "outputs": [
    {
     "data": {
      "text/plain": [
       "'params = {\\n    \"region\": \"region\",\\n    \"bucket\": \"bucket\", \\n    \"key\":\"key\",\\n\\n    \"secretkey\":\"secretkey\"}'"
      ]
     },
     "execution_count": 3,
     "metadata": {},
     "output_type": "execute_result"
    }
   ],
   "source": [
    "params = {\n",
    "    \"region\": \"region\",\n",
    "    \"bucket\": \"bucket\", \n",
    "    \"key\":\"key\",\n",
    "    'folder' : 'folder',\n",
    "    \"secretkey\":\"secretkey\"}"
   ]
  },
  {
   "cell_type": "markdown",
   "metadata": {},
   "source": [
    "Start the s3 client, we will use it later"
   ]
  },
  {
   "cell_type": "code",
   "execution_count": 4,
   "metadata": {},
   "outputs": [],
   "source": [
    "s3 = boto3.client(\n",
    "        's3', \n",
    "        region_name = params['region'],\n",
    "        aws_access_key_id = params['key'],\n",
    "        aws_secret_access_key = params['secretkey']\n",
    "    )"
   ]
  },
  {
   "cell_type": "markdown",
   "metadata": {},
   "source": [
    "Create a empty dataframe"
   ]
  },
  {
   "cell_type": "code",
   "execution_count": 5,
   "metadata": {},
   "outputs": [],
   "source": [
    "real_estate = pd.DataFrame(columns=['Localizacion' ,'Precio', 'Cuartos', 'Baños', 'Cocheras', \n",
    "                                    'Area_total', 'Longitud', 'Latitud'])"
   ]
  },
  {
   "cell_type": "markdown",
   "metadata": {},
   "source": [
    "I define a function to avoid errors with null values"
   ]
  },
  {
   "cell_type": "code",
   "execution_count": 6,
   "metadata": {},
   "outputs": [],
   "source": [
    "def get_item_by_class(result_reg,localizador, clase):\n",
    "    '''\n",
    "    This funtions gets the text from determinated instances using the class\n",
    "    '''\n",
    "    lista = list()\n",
    "    for i in result_reg:\n",
    "        try:\n",
    "            item = i.find(localizador, {'class': clase}).get_text()\n",
    "            lista.append(item)\n",
    "        except:\n",
    "            lista.append('Null')\n",
    "    return lista"
   ]
  },
  {
   "cell_type": "markdown",
   "metadata": {},
   "source": [
    "I define 2 functions to find the longitude and latitude"
   ]
  },
  {
   "cell_type": "code",
   "execution_count": 8,
   "metadata": {},
   "outputs": [],
   "source": [
    "geolocator = Nominatim(user_agent=\"MyApp\")\n",
    "\n",
    "def ext_longitud(direct):\n",
    "    try:\n",
    "        location = geolocator.geocode(direct)\n",
    "        longitud = location.longitude\n",
    "    except:\n",
    "        longitud = None\n",
    "        \n",
    "    return longitud\n",
    "\n",
    "    \n",
    "def ext_latitud(direct):\n",
    "    try:\n",
    "        location = geolocator.geocode(direct)\n",
    "        latitud = location.latitude\n",
    "    except:\n",
    "        latitud = None\n",
    "        \n",
    "    return latitud"
   ]
  },
  {
   "cell_type": "markdown",
   "metadata": {},
   "source": [
    "Scrape the information. I use 50 pages per state and every page give us 23 new rows"
   ]
  },
  {
   "cell_type": "code",
   "execution_count": 9,
   "metadata": {},
   "outputs": [
    {
     "name": "stdout",
     "output_type": "stream",
     "text": [
      "iteracion:  0\n",
      "iteracion:  1\n",
      "iteracion:  2\n",
      "iteracion:  3\n",
      "iteracion:  4\n",
      "iteracion:  5\n",
      "iteracion:  6\n",
      "iteracion:  7\n",
      "iteracion:  8\n",
      "iteracion:  9\n",
      "iteracion:  10\n",
      "iteracion:  11\n",
      "iteracion:  12\n",
      "iteracion:  13\n",
      "iteracion:  14\n",
      "iteracion:  15\n",
      "iteracion:  16\n",
      "iteracion:  17\n",
      "iteracion:  18\n",
      "iteracion:  19\n",
      "iteracion:  20\n",
      "iteracion:  21\n",
      "iteracion:  22\n",
      "iteracion:  23\n",
      "iteracion:  24\n",
      "iteracion:  25\n",
      "iteracion:  26\n",
      "iteracion:  27\n",
      "iteracion:  28\n",
      "iteracion:  29\n",
      "iteracion:  30\n",
      "iteracion:  31\n",
      "iteracion:  32\n",
      "iteracion:  33\n",
      "iteracion:  34\n",
      "iteracion:  35\n",
      "iteracion:  36\n",
      "iteracion:  37\n",
      "iteracion:  38\n",
      "iteracion:  39\n",
      "iteracion:  40\n",
      "iteracion:  41\n",
      "iteracion:  42\n",
      "iteracion:  43\n",
      "iteracion:  44\n",
      "iteracion:  45\n",
      "iteracion:  46\n",
      "iteracion:  47\n",
      "iteracion:  48\n",
      "iteracion:  49\n",
      "iteracion:  50\n"
     ]
    }
   ],
   "source": [
    "for i in range(51):\n",
    "    print('iteracion: ', i)\n",
    "    website = requests.get('https://www.vivanuncios.com.mx/s-venta-inmuebles/estado-de-mexico/page-'+str(i)+'/v1c1097l1014p'+str(i))\n",
    "    soup = BeautifulSoup(website.content, 'html.parser')\n",
    "\n",
    "    result_reg = soup.find_all('div', {'class':'tileV2 REAdTileV2 regular listView'})\n",
    "\n",
    "    Localizacion = get_item_by_class(result_reg,'div', 'tile-location one-liner')\n",
    "                \n",
    "    Cocheras = get_item_by_class(result_reg,'div', 'chiplets-inline-block car-parking')\n",
    "                \n",
    "    Cuartos = get_item_by_class(result_reg,'div', 'chiplets-inline-block re-bedroom')\n",
    "                \n",
    "    Baños = get_item_by_class(result_reg,'div', 'chiplets-inline-block re-bathroom')\n",
    "                \n",
    "    Area_total = get_item_by_class(result_reg,'div', 'chiplets-inline-block surface-area')\n",
    "                \n",
    "    Precio = get_item_by_class(result_reg,'span', 'ad-price')\n",
    "    Precio = [i.strip() for i in Precio]\n",
    "    \n",
    "    Longitud = [ext_longitud(x + ', Mexico') for x in Localizacion ]\n",
    "    \n",
    "    Latitud = [ext_latitud(x + ', Mexico') for x in Localizacion ]\n",
    "\n",
    "\n",
    "    for k in range(len(Localizacion)):\n",
    "        real_estate = real_estate.append({'Localizacion' : Localizacion[k],  'Precio': Precio[k], \n",
    "                                            'Cuartos': Cuartos[k], 'Baños' : Baños[k], \n",
    "                                            'Cocheras': Cocheras[k], 'Area_total': Area_total[k],\n",
    "                                            'Longitud': Longitud[k], 'Latitud': Latitud[k]},\n",
    "                                        ignore_index=True)"
   ]
  },
  {
   "cell_type": "code",
   "execution_count": 10,
   "metadata": {},
   "outputs": [
    {
     "name": "stdout",
     "output_type": "stream",
     "text": [
      "<class 'pandas.core.frame.DataFrame'>\n",
      "RangeIndex: 1148 entries, 0 to 1147\n",
      "Data columns (total 8 columns):\n",
      " #   Column        Non-Null Count  Dtype  \n",
      "---  ------        --------------  -----  \n",
      " 0   Localizacion  1148 non-null   object \n",
      " 1   Precio        1148 non-null   object \n",
      " 2   Cuartos       1148 non-null   object \n",
      " 3   Baños         1148 non-null   object \n",
      " 4   Cocheras      1148 non-null   object \n",
      " 5   Area_total    1148 non-null   object \n",
      " 6   Longitud      973 non-null    float64\n",
      " 7   Latitud       968 non-null    object \n",
      "dtypes: float64(1), object(7)\n",
      "memory usage: 71.9+ KB\n"
     ]
    }
   ],
   "source": [
    "real_estate.info()"
   ]
  },
  {
   "cell_type": "code",
   "execution_count": 11,
   "metadata": {},
   "outputs": [
    {
     "data": {
      "text/html": [
       "<div>\n",
       "<style scoped>\n",
       "    .dataframe tbody tr th:only-of-type {\n",
       "        vertical-align: middle;\n",
       "    }\n",
       "\n",
       "    .dataframe tbody tr th {\n",
       "        vertical-align: top;\n",
       "    }\n",
       "\n",
       "    .dataframe thead th {\n",
       "        text-align: right;\n",
       "    }\n",
       "</style>\n",
       "<table border=\"1\" class=\"dataframe\">\n",
       "  <thead>\n",
       "    <tr style=\"text-align: right;\">\n",
       "      <th></th>\n",
       "      <th>Localizacion</th>\n",
       "      <th>Precio</th>\n",
       "      <th>Cuartos</th>\n",
       "      <th>Baños</th>\n",
       "      <th>Cocheras</th>\n",
       "      <th>Area_total</th>\n",
       "      <th>Longitud</th>\n",
       "      <th>Latitud</th>\n",
       "    </tr>\n",
       "  </thead>\n",
       "  <tbody>\n",
       "    <tr>\n",
       "      <th>0</th>\n",
       "      <td>La Loma</td>\n",
       "      <td>$994,700</td>\n",
       "      <td>4</td>\n",
       "      <td>2</td>\n",
       "      <td>Null</td>\n",
       "      <td>Null</td>\n",
       "      <td>-108.130203</td>\n",
       "      <td>25.405243</td>\n",
       "    </tr>\n",
       "    <tr>\n",
       "      <th>1</th>\n",
       "      <td>San Jose</td>\n",
       "      <td>$3,280,000</td>\n",
       "      <td>3</td>\n",
       "      <td>2</td>\n",
       "      <td>Null</td>\n",
       "      <td>116 m²</td>\n",
       "      <td>-105.475657</td>\n",
       "      <td>35.39724</td>\n",
       "    </tr>\n",
       "    <tr>\n",
       "      <th>2</th>\n",
       "      <td>Lomas de Bellavista</td>\n",
       "      <td>$11,500,000</td>\n",
       "      <td>3</td>\n",
       "      <td>4+</td>\n",
       "      <td>3</td>\n",
       "      <td>254 m²</td>\n",
       "      <td>-102.222543</td>\n",
       "      <td>17.973581</td>\n",
       "    </tr>\n",
       "    <tr>\n",
       "      <th>3</th>\n",
       "      <td>Ocho Cedros</td>\n",
       "      <td>$1,200,000</td>\n",
       "      <td>6+</td>\n",
       "      <td>4+</td>\n",
       "      <td>2</td>\n",
       "      <td>Null</td>\n",
       "      <td>NaN</td>\n",
       "      <td>NaN</td>\n",
       "    </tr>\n",
       "    <tr>\n",
       "      <th>4</th>\n",
       "      <td>Heroes de la Independencia</td>\n",
       "      <td>$1,200,000</td>\n",
       "      <td>5</td>\n",
       "      <td>3</td>\n",
       "      <td>1</td>\n",
       "      <td>120 m²</td>\n",
       "      <td>-115.891498</td>\n",
       "      <td>31.611398</td>\n",
       "    </tr>\n",
       "    <tr>\n",
       "      <th>5</th>\n",
       "      <td>Ecatepec de Morelos</td>\n",
       "      <td>$1,150,000</td>\n",
       "      <td>3</td>\n",
       "      <td>2</td>\n",
       "      <td>1</td>\n",
       "      <td>30 m²</td>\n",
       "      <td>-99.048728</td>\n",
       "      <td>19.599408</td>\n",
       "    </tr>\n",
       "    <tr>\n",
       "      <th>6</th>\n",
       "      <td>Los Heroes Coacalco</td>\n",
       "      <td>$1,150,000</td>\n",
       "      <td>2</td>\n",
       "      <td>1</td>\n",
       "      <td>1</td>\n",
       "      <td>Null</td>\n",
       "      <td>NaN</td>\n",
       "      <td>NaN</td>\n",
       "    </tr>\n",
       "    <tr>\n",
       "      <th>7</th>\n",
       "      <td>El Paraiso</td>\n",
       "      <td>$1,445,082</td>\n",
       "      <td>3</td>\n",
       "      <td>4+</td>\n",
       "      <td>2</td>\n",
       "      <td>129 m²</td>\n",
       "      <td>-93.551530</td>\n",
       "      <td>16.246132</td>\n",
       "    </tr>\n",
       "    <tr>\n",
       "      <th>8</th>\n",
       "      <td>Ex-Hacienda Santa Ines</td>\n",
       "      <td>$530,000</td>\n",
       "      <td>1</td>\n",
       "      <td>1</td>\n",
       "      <td>Null</td>\n",
       "      <td>60 m²</td>\n",
       "      <td>NaN</td>\n",
       "      <td>NaN</td>\n",
       "    </tr>\n",
       "    <tr>\n",
       "      <th>9</th>\n",
       "      <td>Estado de Mexico</td>\n",
       "      <td>$3,100,000</td>\n",
       "      <td>4</td>\n",
       "      <td>3</td>\n",
       "      <td>Null</td>\n",
       "      <td>215 m²</td>\n",
       "      <td>-99.689972</td>\n",
       "      <td>19.483945</td>\n",
       "    </tr>\n",
       "  </tbody>\n",
       "</table>\n",
       "</div>"
      ],
      "text/plain": [
       "                 Localizacion       Precio Cuartos Baños Cocheras Area_total  \\\n",
       "0                     La Loma     $994,700       4     2     Null       Null   \n",
       "1                    San Jose   $3,280,000       3     2     Null     116 m²   \n",
       "2         Lomas de Bellavista  $11,500,000       3    4+        3     254 m²   \n",
       "3                 Ocho Cedros   $1,200,000      6+    4+        2       Null   \n",
       "4  Heroes de la Independencia   $1,200,000       5     3        1     120 m²   \n",
       "5         Ecatepec de Morelos   $1,150,000       3     2        1      30 m²   \n",
       "6         Los Heroes Coacalco   $1,150,000       2     1        1       Null   \n",
       "7                  El Paraiso   $1,445,082       3    4+        2     129 m²   \n",
       "8      Ex-Hacienda Santa Ines     $530,000       1     1     Null      60 m²   \n",
       "9            Estado de Mexico   $3,100,000       4     3     Null     215 m²   \n",
       "\n",
       "     Longitud    Latitud  \n",
       "0 -108.130203  25.405243  \n",
       "1 -105.475657   35.39724  \n",
       "2 -102.222543  17.973581  \n",
       "3         NaN        NaN  \n",
       "4 -115.891498  31.611398  \n",
       "5  -99.048728  19.599408  \n",
       "6         NaN        NaN  \n",
       "7  -93.551530  16.246132  \n",
       "8         NaN        NaN  \n",
       "9  -99.689972  19.483945  "
      ]
     },
     "execution_count": 11,
     "metadata": {},
     "output_type": "execute_result"
    }
   ],
   "source": [
    "real_estate.head(10)"
   ]
  },
  {
   "cell_type": "markdown",
   "metadata": {},
   "source": [
    "I save the dataframe to csv"
   ]
  },
  {
   "cell_type": "code",
   "execution_count": 12,
   "metadata": {},
   "outputs": [],
   "source": [
    "real_estate.to_csv('real_state.csv', index= False)"
   ]
  },
  {
   "cell_type": "markdown",
   "metadata": {},
   "source": [
    "Upload the file to s3 in the bucket and folder defined in the parameters"
   ]
  },
  {
   "cell_type": "code",
   "execution_count": 14,
   "metadata": {},
   "outputs": [],
   "source": [
    "s3.upload_file('real_state.csv', params['bucket'], params['folder'] +'real_state.csv')       \n"
   ]
  },
  {
   "cell_type": "code",
   "execution_count": null,
   "metadata": {},
   "outputs": [],
   "source": []
  }
 ],
 "metadata": {
  "interpreter": {
   "hash": "438727c8858bc46e257ba69863512eb04c8e9f5db9a1c7102296af502b4092eb"
  },
  "kernelspec": {
   "display_name": "Python 3.8.10 64-bit",
   "language": "python",
   "name": "python3"
  },
  "language_info": {
   "codemirror_mode": {
    "name": "ipython",
    "version": 3
   },
   "file_extension": ".py",
   "mimetype": "text/x-python",
   "name": "python",
   "nbconvert_exporter": "python",
   "pygments_lexer": "ipython3",
   "version": "3.8.10"
  },
  "orig_nbformat": 4
 },
 "nbformat": 4,
 "nbformat_minor": 2
}
