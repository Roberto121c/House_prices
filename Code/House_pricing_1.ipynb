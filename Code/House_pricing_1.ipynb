{
 "cells": [
  {
   "cell_type": "markdown",
   "metadata": {},
   "source": [
    "### HOUSE PRICING 1 : EXTRACTION "
   ]
  },
  {
   "cell_type": "markdown",
   "metadata": {},
   "source": [
    "Import the necessary libraries"
   ]
  },
  {
   "cell_type": "code",
   "execution_count": null,
   "metadata": {},
   "outputs": [],
   "source": [
    "from bs4 import BeautifulSoup\n",
    "import pandas as pd\n",
    "import requests\n",
    "import boto3\n",
    "import numpy as np"
   ]
  },
  {
   "cell_type": "markdown",
   "metadata": {},
   "source": [
    "Set the parameters to start our AWS client"
   ]
  },
  {
   "cell_type": "code",
   "execution_count": 129,
   "metadata": {},
   "outputs": [],
   "source": [
    "params = {\n",
    "    \"region\": \"region\",\n",
    "    \"bucket\": \"bucket\", \n",
    "    \"key\":\"key\",\n",
    "    \"folder\": \"folder\",\n",
    "    \"secretkey\":\"secretkey\"}"
   ]
  },
  {
   "cell_type": "markdown",
   "metadata": {},
   "source": [
    "Start the s3 client, we will use it later"
   ]
  },
  {
   "cell_type": "code",
   "execution_count": 130,
   "metadata": {},
   "outputs": [],
   "source": [
    "s3 = boto3.client(\n",
    "        's3', \n",
    "        region_name = params['region'],\n",
    "        aws_access_key_id = params['key'],\n",
    "        aws_secret_access_key = params['secretkey']\n",
    "    )"
   ]
  },
  {
   "cell_type": "markdown",
   "metadata": {},
   "source": [
    "Create a empty dataframe"
   ]
  },
  {
   "cell_type": "code",
   "execution_count": 131,
   "metadata": {},
   "outputs": [],
   "source": [
    "real_estate = pd.DataFrame(columns=['Localizacion','Estado' ,'Precio', 'Cuartos', 'Baños', 'Cocheras', \n",
    "                                    'Area_total'])"
   ]
  },
  {
   "cell_type": "markdown",
   "metadata": {},
   "source": [
    "I decided to scrape just the 10 richest states in Mexiko"
   ]
  },
  {
   "cell_type": "code",
   "execution_count": 132,
   "metadata": {},
   "outputs": [],
   "source": [
    "Estados = ['estado-de-mexico','veracruz','chihuahua', 'coahuila', 'baja-california',\n",
    "           'sonora', 'jalisco', 'guanajuato','distrito-federal', 'nuevo-leon']"
   ]
  },
  {
   "cell_type": "markdown",
   "metadata": {},
   "source": [
    "I define a function to avoid errors with null values"
   ]
  },
  {
   "cell_type": "code",
   "execution_count": 133,
   "metadata": {},
   "outputs": [],
   "source": [
    "def get_item_by_class(result_reg,localizador, clase):\n",
    "    '''\n",
    "    This funtions gets the text from determinated instances using the class\n",
    "    '''\n",
    "    lista = list()\n",
    "    for i in result_reg:\n",
    "        try:\n",
    "            item = i.find(localizador, {'class': clase}).get_text()\n",
    "            lista.append(item)\n",
    "        except:\n",
    "            lista.append('Null')\n",
    "    return lista"
   ]
  },
  {
   "cell_type": "markdown",
   "metadata": {},
   "source": [
    "Scrape the information. I use 50 pages per state and every page give us 23 new rows"
   ]
  },
  {
   "cell_type": "code",
   "execution_count": 134,
   "metadata": {},
   "outputs": [
    {
     "name": "stdout",
     "output_type": "stream",
     "text": [
      "Estamos en la iteracion:  estado-de-mexico\n",
      "Estamos en la iteracion:  veracruz\n",
      "Estamos en la iteracion:  chihuahua\n",
      "Estamos en la iteracion:  coahuila\n",
      "Estamos en la iteracion:  baja-california\n",
      "Estamos en la iteracion:  sonora\n",
      "Estamos en la iteracion:  jalisco\n",
      "Estamos en la iteracion:  guanajuato\n",
      "Estamos en la iteracion:  distrito-federal\n",
      "Estamos en la iteracion:  nuevo-leon\n"
     ]
    }
   ],
   "source": [
    "for j in Estados:\n",
    "    print('Estamos en la iteracion: ', str(j))\n",
    "    for i in range(51):\n",
    "        website = requests.get('https://www.vivanuncios.com.mx/s-venta-inmuebles/'+j+'/page-'+str(i)+'/v1c1097l1014p'+str(i))\n",
    "        soup = BeautifulSoup(website.content, 'html.parser')\n",
    "\n",
    "        result_reg = soup.find_all('div', {'class':'tileV2 REAdTileV2 regular listView'})\n",
    "\n",
    "        Localizacion = get_item_by_class(result_reg,'div', 'tile-location one-liner')\n",
    "        \n",
    "        Estado = [j for i in result_reg]\n",
    "                    \n",
    "        Cocheras = get_item_by_class(result_reg,'div', 'chiplets-inline-block car-parking')\n",
    "                    \n",
    "        Cuartos = get_item_by_class(result_reg,'div', 'chiplets-inline-block re-bedroom')\n",
    "                    \n",
    "        Baños = get_item_by_class(result_reg,'div', 'chiplets-inline-block re-bathroom')\n",
    "                    \n",
    "        Area_total = get_item_by_class(result_reg,'div', 'chiplets-inline-block surface-area')\n",
    "                    \n",
    "        Precio = get_item_by_class(result_reg,'span', 'ad-price')\n",
    "        Precio = [i.strip() for i in Precio]\n",
    "\n",
    "\n",
    "        for k in range(len(Localizacion)):\n",
    "            real_estate = real_estate.append({'Localizacion' : Localizacion[k],  'Estado' : Estado[k], \n",
    "                                              'Precio': Precio[k], 'Cuartos': Cuartos[k], 'Baños' : Baños[k], \n",
    "                                              'Cocheras': Cocheras[k], 'Area_total': Area_total[k]},\n",
    "                                            ignore_index=True)"
   ]
  },
  {
   "cell_type": "code",
   "execution_count": 135,
   "metadata": {},
   "outputs": [
    {
     "name": "stdout",
     "output_type": "stream",
     "text": [
      "<class 'pandas.core.frame.DataFrame'>\n",
      "RangeIndex: 11419 entries, 0 to 11418\n",
      "Data columns (total 7 columns):\n",
      " #   Column        Non-Null Count  Dtype \n",
      "---  ------        --------------  ----- \n",
      " 0   Localizacion  11419 non-null  object\n",
      " 1   Estado        11419 non-null  object\n",
      " 2   Precio        11419 non-null  object\n",
      " 3   Cuartos       11419 non-null  object\n",
      " 4   Baños         11419 non-null  object\n",
      " 5   Cocheras      11419 non-null  object\n",
      " 6   Area_total    11419 non-null  object\n",
      "dtypes: object(7)\n",
      "memory usage: 624.6+ KB\n"
     ]
    }
   ],
   "source": [
    "real_estate.info()"
   ]
  },
  {
   "cell_type": "code",
   "execution_count": 136,
   "metadata": {},
   "outputs": [
    {
     "data": {
      "text/html": [
       "<div>\n",
       "<style scoped>\n",
       "    .dataframe tbody tr th:only-of-type {\n",
       "        vertical-align: middle;\n",
       "    }\n",
       "\n",
       "    .dataframe tbody tr th {\n",
       "        vertical-align: top;\n",
       "    }\n",
       "\n",
       "    .dataframe thead th {\n",
       "        text-align: right;\n",
       "    }\n",
       "</style>\n",
       "<table border=\"1\" class=\"dataframe\">\n",
       "  <thead>\n",
       "    <tr style=\"text-align: right;\">\n",
       "      <th></th>\n",
       "      <th>Localizacion</th>\n",
       "      <th>Estado</th>\n",
       "      <th>Precio</th>\n",
       "      <th>Cuartos</th>\n",
       "      <th>Baños</th>\n",
       "      <th>Cocheras</th>\n",
       "      <th>Area_total</th>\n",
       "    </tr>\n",
       "  </thead>\n",
       "  <tbody>\n",
       "    <tr>\n",
       "      <th>0</th>\n",
       "      <td>Campestre del Lago</td>\n",
       "      <td>estado-de-mexico</td>\n",
       "      <td>$5,500,000</td>\n",
       "      <td>3</td>\n",
       "      <td>3</td>\n",
       "      <td>4+</td>\n",
       "      <td>300 m²</td>\n",
       "    </tr>\n",
       "    <tr>\n",
       "      <th>1</th>\n",
       "      <td>Méx.</td>\n",
       "      <td>estado-de-mexico</td>\n",
       "      <td>$1,450,000</td>\n",
       "      <td>3</td>\n",
       "      <td>1</td>\n",
       "      <td>1</td>\n",
       "      <td>90 m²</td>\n",
       "    </tr>\n",
       "    <tr>\n",
       "      <th>2</th>\n",
       "      <td>Delegación San Mateo Otzacatipan</td>\n",
       "      <td>estado-de-mexico</td>\n",
       "      <td>$1,290,000</td>\n",
       "      <td>3</td>\n",
       "      <td>1</td>\n",
       "      <td>Null</td>\n",
       "      <td>96 m²</td>\n",
       "    </tr>\n",
       "    <tr>\n",
       "      <th>3</th>\n",
       "      <td>San Bartolo</td>\n",
       "      <td>estado-de-mexico</td>\n",
       "      <td>$650,000</td>\n",
       "      <td>2</td>\n",
       "      <td>1</td>\n",
       "      <td>1</td>\n",
       "      <td>60 m²</td>\n",
       "    </tr>\n",
       "    <tr>\n",
       "      <th>4</th>\n",
       "      <td>Hacienda Ojo de Agua</td>\n",
       "      <td>estado-de-mexico</td>\n",
       "      <td>$5,500,000</td>\n",
       "      <td>4</td>\n",
       "      <td>4+</td>\n",
       "      <td>3</td>\n",
       "      <td>610 m²</td>\n",
       "    </tr>\n",
       "    <tr>\n",
       "      <th>5</th>\n",
       "      <td>Zumpango</td>\n",
       "      <td>estado-de-mexico</td>\n",
       "      <td>$495,000</td>\n",
       "      <td>2</td>\n",
       "      <td>1</td>\n",
       "      <td>1</td>\n",
       "      <td>Null</td>\n",
       "    </tr>\n",
       "    <tr>\n",
       "      <th>6</th>\n",
       "      <td>Fracc. Paseos del Lago</td>\n",
       "      <td>estado-de-mexico</td>\n",
       "      <td>$650,000</td>\n",
       "      <td>2</td>\n",
       "      <td>1</td>\n",
       "      <td>1</td>\n",
       "      <td>60 m²</td>\n",
       "    </tr>\n",
       "    <tr>\n",
       "      <th>7</th>\n",
       "      <td>Las Fuentes Ecatepec</td>\n",
       "      <td>estado-de-mexico</td>\n",
       "      <td>$2,300,000</td>\n",
       "      <td>2</td>\n",
       "      <td>2</td>\n",
       "      <td>2</td>\n",
       "      <td>149 m²</td>\n",
       "    </tr>\n",
       "    <tr>\n",
       "      <th>8</th>\n",
       "      <td>Carlos Hank Gonzalez</td>\n",
       "      <td>estado-de-mexico</td>\n",
       "      <td>$2,950,000</td>\n",
       "      <td>5</td>\n",
       "      <td>2</td>\n",
       "      <td>2</td>\n",
       "      <td>210 m²</td>\n",
       "    </tr>\n",
       "    <tr>\n",
       "      <th>9</th>\n",
       "      <td>Covadonga</td>\n",
       "      <td>estado-de-mexico</td>\n",
       "      <td>$1,200,000</td>\n",
       "      <td>3</td>\n",
       "      <td>3</td>\n",
       "      <td>2</td>\n",
       "      <td>Null</td>\n",
       "    </tr>\n",
       "  </tbody>\n",
       "</table>\n",
       "</div>"
      ],
      "text/plain": [
       "                       Localizacion            Estado      Precio Cuartos  \\\n",
       "0                Campestre del Lago  estado-de-mexico  $5,500,000       3   \n",
       "1                              Méx.  estado-de-mexico  $1,450,000       3   \n",
       "2  Delegación San Mateo Otzacatipan  estado-de-mexico  $1,290,000       3   \n",
       "3                       San Bartolo  estado-de-mexico    $650,000       2   \n",
       "4              Hacienda Ojo de Agua  estado-de-mexico  $5,500,000       4   \n",
       "5                          Zumpango  estado-de-mexico    $495,000       2   \n",
       "6            Fracc. Paseos del Lago  estado-de-mexico    $650,000       2   \n",
       "7              Las Fuentes Ecatepec  estado-de-mexico  $2,300,000       2   \n",
       "8              Carlos Hank Gonzalez  estado-de-mexico  $2,950,000       5   \n",
       "9                         Covadonga  estado-de-mexico  $1,200,000       3   \n",
       "\n",
       "  Baños Cocheras Area_total  \n",
       "0     3       4+     300 m²  \n",
       "1     1        1      90 m²  \n",
       "2     1     Null      96 m²  \n",
       "3     1        1      60 m²  \n",
       "4    4+        3     610 m²  \n",
       "5     1        1       Null  \n",
       "6     1        1      60 m²  \n",
       "7     2        2     149 m²  \n",
       "8     2        2     210 m²  \n",
       "9     3        2       Null  "
      ]
     },
     "execution_count": 136,
     "metadata": {},
     "output_type": "execute_result"
    }
   ],
   "source": [
    "real_estate.head(10)"
   ]
  },
  {
   "cell_type": "markdown",
   "metadata": {},
   "source": [
    "I save the dataframe to csv"
   ]
  },
  {
   "cell_type": "code",
   "execution_count": 137,
   "metadata": {},
   "outputs": [],
   "source": [
    "real_estate.to_csv('real_state.csv', index= False)"
   ]
  },
  {
   "cell_type": "markdown",
   "metadata": {},
   "source": [
    "Upload the file to s3 in the bucket and folder defined in the parameters"
   ]
  },
  {
   "cell_type": "code",
   "execution_count": 145,
   "metadata": {},
   "outputs": [],
   "source": [
    "s3.upload_file('real_state.csv', params['bucket'], params['folder'] +'real_state.csv')       \n"
   ]
  }
 ],
 "metadata": {
  "interpreter": {
   "hash": "438727c8858bc46e257ba69863512eb04c8e9f5db9a1c7102296af502b4092eb"
  },
  "kernelspec": {
   "display_name": "Python 3.8.10 64-bit",
   "language": "python",
   "name": "python3"
  },
  "language_info": {
   "codemirror_mode": {
    "name": "ipython",
    "version": 3
   },
   "file_extension": ".py",
   "mimetype": "text/x-python",
   "name": "python",
   "nbconvert_exporter": "python",
   "pygments_lexer": "ipython3",
   "version": "3.8.10"
  },
  "orig_nbformat": 4
 },
 "nbformat": 4,
 "nbformat_minor": 2
}
