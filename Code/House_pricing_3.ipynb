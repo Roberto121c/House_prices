{
 "cells": [
  {
   "cell_type": "markdown",
   "metadata": {},
   "source": [
    "We import the necessary libraries"
   ]
  },
  {
   "cell_type": "code",
   "execution_count": 58,
   "metadata": {},
   "outputs": [],
   "source": [
    "import numpy as np\n",
    "import pandas as pd\n",
    "import seaborn as sns\n",
    "import matplotlib.pyplot as plt\n",
    "from sklearn.model_selection import train_test_split\n",
    "from sklearn.linear_model import LinearRegression\n",
    "from sklearn import metrics\n",
    "import pickle\n",
    "from scipy import stats"
   ]
  },
  {
   "cell_type": "code",
   "execution_count": 59,
   "metadata": {},
   "outputs": [
    {
     "data": {
      "text/html": [
       "<div>\n",
       "<style scoped>\n",
       "    .dataframe tbody tr th:only-of-type {\n",
       "        vertical-align: middle;\n",
       "    }\n",
       "\n",
       "    .dataframe tbody tr th {\n",
       "        vertical-align: top;\n",
       "    }\n",
       "\n",
       "    .dataframe thead th {\n",
       "        text-align: right;\n",
       "    }\n",
       "</style>\n",
       "<table border=\"1\" class=\"dataframe\">\n",
       "  <thead>\n",
       "    <tr style=\"text-align: right;\">\n",
       "      <th></th>\n",
       "      <th>Localizacion</th>\n",
       "      <th>Precio</th>\n",
       "      <th>Cuartos</th>\n",
       "      <th>Baños</th>\n",
       "      <th>Cocheras</th>\n",
       "      <th>Area_total</th>\n",
       "      <th>Longitud</th>\n",
       "      <th>Latitud</th>\n",
       "    </tr>\n",
       "  </thead>\n",
       "  <tbody>\n",
       "    <tr>\n",
       "      <th>0</th>\n",
       "      <td>San Miguel Totocuitlapilco</td>\n",
       "      <td>9600000.0</td>\n",
       "      <td>3.0</td>\n",
       "      <td>3.0</td>\n",
       "      <td>NaN</td>\n",
       "      <td>253.0</td>\n",
       "      <td>-99.591114</td>\n",
       "      <td>19.230067</td>\n",
       "    </tr>\n",
       "    <tr>\n",
       "      <th>1</th>\n",
       "      <td>USD\"</td>\n",
       "      <td>3.0</td>\n",
       "      <td>3.0</td>\n",
       "      <td>3.0</td>\n",
       "      <td>298.0</td>\n",
       "      <td>100.0</td>\n",
       "      <td>25.640729</td>\n",
       "      <td>NaN</td>\n",
       "    </tr>\n",
       "    <tr>\n",
       "      <th>2</th>\n",
       "      <td>Ojo de Agua</td>\n",
       "      <td>1543900.0</td>\n",
       "      <td>3.0</td>\n",
       "      <td>3.0</td>\n",
       "      <td>1.0</td>\n",
       "      <td>79.0</td>\n",
       "      <td>-97.525141</td>\n",
       "      <td>20.269082</td>\n",
       "    </tr>\n",
       "    <tr>\n",
       "      <th>3</th>\n",
       "      <td>10 de Abril</td>\n",
       "      <td>4600000.0</td>\n",
       "      <td>4.0</td>\n",
       "      <td>3.0</td>\n",
       "      <td>4.0</td>\n",
       "      <td>223.0</td>\n",
       "      <td>-109.163541</td>\n",
       "      <td>26.578685</td>\n",
       "    </tr>\n",
       "    <tr>\n",
       "      <th>4</th>\n",
       "      <td>Méx.</td>\n",
       "      <td>32000000.0</td>\n",
       "      <td>5.0</td>\n",
       "      <td>4.0</td>\n",
       "      <td>NaN</td>\n",
       "      <td>1154.0</td>\n",
       "      <td>-99.689972</td>\n",
       "      <td>19.483945</td>\n",
       "    </tr>\n",
       "  </tbody>\n",
       "</table>\n",
       "</div>"
      ],
      "text/plain": [
       "                   Localizacion      Precio  Cuartos  Baños  Cocheras  \\\n",
       "0    San Miguel Totocuitlapilco   9600000.0      3.0    3.0       NaN   \n",
       "1                          USD\"         3.0      3.0    3.0     298.0   \n",
       "2                   Ojo de Agua   1543900.0      3.0    3.0       1.0   \n",
       "3                   10 de Abril   4600000.0      4.0    3.0       4.0   \n",
       "4                          Méx.  32000000.0      5.0    4.0       NaN   \n",
       "\n",
       "   Area_total    Longitud    Latitud  \n",
       "0       253.0  -99.591114  19.230067  \n",
       "1       100.0   25.640729        NaN  \n",
       "2        79.0  -97.525141  20.269082  \n",
       "3       223.0 -109.163541  26.578685  \n",
       "4      1154.0  -99.689972  19.483945  "
      ]
     },
     "execution_count": 59,
     "metadata": {},
     "output_type": "execute_result"
    }
   ],
   "source": [
    "data = pd.read_csv('real_state_spark.csv')\n",
    "data.head()"
   ]
  },
  {
   "cell_type": "code",
   "execution_count": 60,
   "metadata": {},
   "outputs": [
    {
     "data": {
      "text/plain": [
       "(915, 8)"
      ]
     },
     "execution_count": 60,
     "metadata": {},
     "output_type": "execute_result"
    }
   ],
   "source": [
    "data.shape"
   ]
  },
  {
   "cell_type": "code",
   "execution_count": 61,
   "metadata": {},
   "outputs": [],
   "source": [
    "data[[ 'Precio', 'Cuartos', 'Baños', 'Cocheras', 'Longitud', 'Latitud']] = \\\n",
    "data[[ 'Precio', 'Cuartos', 'Baños', 'Cocheras', 'Longitud', 'Latitud']].fillna(0)"
   ]
  },
  {
   "cell_type": "code",
   "execution_count": 62,
   "metadata": {},
   "outputs": [],
   "source": [
    "data[['Precio','Cuartos', 'Baños', 'Cocheras']] = \\\n",
    "data[['Precio','Cuartos', 'Baños', 'Cocheras']].astype('int')"
   ]
  },
  {
   "cell_type": "code",
   "execution_count": 63,
   "metadata": {},
   "outputs": [
    {
     "name": "stdout",
     "output_type": "stream",
     "text": [
      "<class 'pandas.core.frame.DataFrame'>\n",
      "RangeIndex: 915 entries, 0 to 914\n",
      "Data columns (total 8 columns):\n",
      " #   Column        Non-Null Count  Dtype  \n",
      "---  ------        --------------  -----  \n",
      " 0   Localizacion  915 non-null    object \n",
      " 1   Precio        915 non-null    int32  \n",
      " 2   Cuartos       915 non-null    int32  \n",
      " 3   Baños         915 non-null    int32  \n",
      " 4   Cocheras      915 non-null    int32  \n",
      " 5   Area_total    671 non-null    float64\n",
      " 6   Longitud      915 non-null    float64\n",
      " 7   Latitud       915 non-null    float64\n",
      "dtypes: float64(3), int32(4), object(1)\n",
      "memory usage: 43.0+ KB\n"
     ]
    }
   ],
   "source": [
    "data.info()"
   ]
  },
  {
   "cell_type": "code",
   "execution_count": 64,
   "metadata": {},
   "outputs": [
    {
     "data": {
      "text/html": [
       "<div>\n",
       "<style scoped>\n",
       "    .dataframe tbody tr th:only-of-type {\n",
       "        vertical-align: middle;\n",
       "    }\n",
       "\n",
       "    .dataframe tbody tr th {\n",
       "        vertical-align: top;\n",
       "    }\n",
       "\n",
       "    .dataframe thead th {\n",
       "        text-align: right;\n",
       "    }\n",
       "</style>\n",
       "<table border=\"1\" class=\"dataframe\">\n",
       "  <thead>\n",
       "    <tr style=\"text-align: right;\">\n",
       "      <th></th>\n",
       "      <th>Precio</th>\n",
       "      <th>Cuartos</th>\n",
       "      <th>Baños</th>\n",
       "      <th>Cocheras</th>\n",
       "      <th>Area_total</th>\n",
       "      <th>Longitud</th>\n",
       "      <th>Latitud</th>\n",
       "    </tr>\n",
       "  </thead>\n",
       "  <tbody>\n",
       "    <tr>\n",
       "      <th>count</th>\n",
       "      <td>9.150000e+02</td>\n",
       "      <td>915.000000</td>\n",
       "      <td>915.000000</td>\n",
       "      <td>915.000000</td>\n",
       "      <td>671.000000</td>\n",
       "      <td>915.000000</td>\n",
       "      <td>915.000000</td>\n",
       "    </tr>\n",
       "    <tr>\n",
       "      <th>mean</th>\n",
       "      <td>4.742288e+06</td>\n",
       "      <td>2.955191</td>\n",
       "      <td>2.368306</td>\n",
       "      <td>2.852459</td>\n",
       "      <td>453.403875</td>\n",
       "      <td>-84.802564</td>\n",
       "      <td>17.949463</td>\n",
       "    </tr>\n",
       "    <tr>\n",
       "      <th>std</th>\n",
       "      <td>8.493745e+06</td>\n",
       "      <td>0.849226</td>\n",
       "      <td>1.012440</td>\n",
       "      <td>32.862805</td>\n",
       "      <td>5800.811905</td>\n",
       "      <td>36.385654</td>\n",
       "      <td>8.340171</td>\n",
       "    </tr>\n",
       "    <tr>\n",
       "      <th>min</th>\n",
       "      <td>0.000000e+00</td>\n",
       "      <td>0.000000</td>\n",
       "      <td>0.000000</td>\n",
       "      <td>0.000000</td>\n",
       "      <td>30.000000</td>\n",
       "      <td>-116.999072</td>\n",
       "      <td>-37.814644</td>\n",
       "    </tr>\n",
       "    <tr>\n",
       "      <th>25%</th>\n",
       "      <td>1.044828e+06</td>\n",
       "      <td>2.000000</td>\n",
       "      <td>2.000000</td>\n",
       "      <td>1.000000</td>\n",
       "      <td>78.000000</td>\n",
       "      <td>-100.328117</td>\n",
       "      <td>19.011396</td>\n",
       "    </tr>\n",
       "    <tr>\n",
       "      <th>50%</th>\n",
       "      <td>2.400000e+06</td>\n",
       "      <td>3.000000</td>\n",
       "      <td>2.000000</td>\n",
       "      <td>1.000000</td>\n",
       "      <td>126.000000</td>\n",
       "      <td>-99.048728</td>\n",
       "      <td>19.554633</td>\n",
       "    </tr>\n",
       "    <tr>\n",
       "      <th>75%</th>\n",
       "      <td>5.945000e+06</td>\n",
       "      <td>3.000000</td>\n",
       "      <td>3.000000</td>\n",
       "      <td>2.000000</td>\n",
       "      <td>229.500000</td>\n",
       "      <td>-97.048586</td>\n",
       "      <td>20.653577</td>\n",
       "    </tr>\n",
       "    <tr>\n",
       "      <th>max</th>\n",
       "      <td>2.040000e+08</td>\n",
       "      <td>6.000000</td>\n",
       "      <td>4.000000</td>\n",
       "      <td>950.000000</td>\n",
       "      <td>150000.000000</td>\n",
       "      <td>120.723601</td>\n",
       "      <td>43.291845</td>\n",
       "    </tr>\n",
       "  </tbody>\n",
       "</table>\n",
       "</div>"
      ],
      "text/plain": [
       "             Precio     Cuartos       Baños    Cocheras     Area_total  \\\n",
       "count  9.150000e+02  915.000000  915.000000  915.000000     671.000000   \n",
       "mean   4.742288e+06    2.955191    2.368306    2.852459     453.403875   \n",
       "std    8.493745e+06    0.849226    1.012440   32.862805    5800.811905   \n",
       "min    0.000000e+00    0.000000    0.000000    0.000000      30.000000   \n",
       "25%    1.044828e+06    2.000000    2.000000    1.000000      78.000000   \n",
       "50%    2.400000e+06    3.000000    2.000000    1.000000     126.000000   \n",
       "75%    5.945000e+06    3.000000    3.000000    2.000000     229.500000   \n",
       "max    2.040000e+08    6.000000    4.000000  950.000000  150000.000000   \n",
       "\n",
       "         Longitud     Latitud  \n",
       "count  915.000000  915.000000  \n",
       "mean   -84.802564   17.949463  \n",
       "std     36.385654    8.340171  \n",
       "min   -116.999072  -37.814644  \n",
       "25%   -100.328117   19.011396  \n",
       "50%    -99.048728   19.554633  \n",
       "75%    -97.048586   20.653577  \n",
       "max    120.723601   43.291845  "
      ]
     },
     "execution_count": 64,
     "metadata": {},
     "output_type": "execute_result"
    }
   ],
   "source": [
    "data.describe()"
   ]
  },
  {
   "cell_type": "code",
   "execution_count": 65,
   "metadata": {},
   "outputs": [
    {
     "data": {
      "text/plain": [
       "Index(['Localizacion', 'Precio', 'Cuartos', 'Baños', 'Cocheras', 'Area_total',\n",
       "       'Longitud', 'Latitud'],\n",
       "      dtype='object')"
      ]
     },
     "execution_count": 65,
     "metadata": {},
     "output_type": "execute_result"
    }
   ],
   "source": [
    "data.columns"
   ]
  },
  {
   "cell_type": "code",
   "execution_count": 66,
   "metadata": {},
   "outputs": [
    {
     "data": {
      "text/plain": [
       "Localizacion      0\n",
       "Precio            0\n",
       "Cuartos           0\n",
       "Baños             0\n",
       "Cocheras          0\n",
       "Area_total      244\n",
       "Longitud          0\n",
       "Latitud           0\n",
       "dtype: int64"
      ]
     },
     "execution_count": 66,
     "metadata": {},
     "output_type": "execute_result"
    }
   ],
   "source": [
    "data.isnull().sum()"
   ]
  },
  {
   "cell_type": "code",
   "execution_count": 67,
   "metadata": {},
   "outputs": [
    {
     "data": {
      "text/plain": [
       "<AxesSubplot:>"
      ]
     },
     "execution_count": 67,
     "metadata": {},
     "output_type": "execute_result"
    },
    {
     "data": {
      "image/png": "[encoded data removed]",
      "text/plain": [
       "<Figure size 432x288 with 2 Axes>"
      ]
     },
     "metadata": {
      "needs_background": "light"
     },
     "output_type": "display_data"
    }
   ],
   "source": [
    "sns.heatmap(data.corr(), annot=True)"
   ]
  },
  {
   "cell_type": "code",
   "execution_count": 68,
   "metadata": {},
   "outputs": [
    {
     "data": {
      "image/png": "[encoded data removed]",
      "text/plain": [
       "<Figure size 432x576 with 4 Axes>"
      ]
     },
     "metadata": {
      "needs_background": "light"
     },
     "output_type": "display_data"
    }
   ],
   "source": [
    "fig, axs = plt.subplots(2, 2, figsize=(6, 8))\n",
    "\n",
    "axs[0,0].boxplot(data['Cuartos'])\n",
    "axs[0,0].set_title('Cuartos')\n",
    "\n",
    "axs[0,1].boxplot(data['Baños'])\n",
    "axs[0,1].set_title('Baños')\n",
    "\n",
    "axs[1,0].boxplot(data['Cocheras'])\n",
    "axs[1,0].set_title('Cocheras')\n",
    "\n",
    "\n",
    "axs[1,1].boxplot(data['Precio'])\n",
    "axs[1,1].set_title('Precio')\n",
    " \n",
    " \n",
    "fig.subplots_adjust(left=0.1, right=0.9, bottom=0.05, top=0.9,\n",
    "                    hspace=0.15, wspace=0.2)\n",
    "                    \n",
    "# show plot\n",
    "plt.show()"
   ]
  },
  {
   "cell_type": "code",
   "execution_count": 69,
   "metadata": {},
   "outputs": [],
   "source": [
    "data = data[(data['Precio'] < 100000000)]\n",
    "data = data[(data['Cocheras'] < 20)]\n"
   ]
  },
  {
   "cell_type": "code",
   "execution_count": 70,
   "metadata": {},
   "outputs": [
    {
     "data": {
      "image/png": "[encoded data removed]",
      "text/plain": [
       "<Figure size 432x576 with 4 Axes>"
      ]
     },
     "metadata": {
      "needs_background": "light"
     },
     "output_type": "display_data"
    }
   ],
   "source": [
    "fig, axs = plt.subplots(2, 2, figsize=(6, 8))\n",
    "\n",
    "axs[0,0].boxplot(data['Cuartos'])\n",
    "axs[0,0].set_title('Cuartos')\n",
    "\n",
    "axs[0,1].boxplot(data['Baños'])\n",
    "axs[0,1].set_title('Baños')\n",
    "\n",
    "axs[1,0].boxplot(data['Cocheras'])\n",
    "axs[1,0].set_title('Cocheras')\n",
    "\n",
    "\n",
    "axs[1,1].boxplot(data['Precio'])\n",
    "axs[1,1].set_title('Precio')\n",
    " \n",
    " \n",
    "fig.subplots_adjust(left=0.1, right=0.9, bottom=0.05, top=0.9,\n",
    "                    hspace=0.15, wspace=0.2)\n",
    "                    \n",
    "# show plot\n",
    "plt.show()"
   ]
  },
  {
   "cell_type": "code",
   "execution_count": 71,
   "metadata": {},
   "outputs": [
    {
     "data": {
      "text/plain": [
       "<function seaborn.utils.despine(fig=None, ax=None, top=True, right=True, left=False, bottom=False, offset=None, trim=False)>"
      ]
     },
     "execution_count": 71,
     "metadata": {},
     "output_type": "execute_result"
    },
    {
     "data": {
      "image/png": "[encoded data removed]",
      "text/plain": [
       "<Figure size 432x288 with 1 Axes>"
      ]
     },
     "metadata": {
      "needs_background": "light"
     },
     "output_type": "display_data"
    }
   ],
   "source": [
    "data['Cuartos'].value_counts().plot(kind='bar')\n",
    "plt.title('number of Bedroom')\n",
    "plt.xlabel('Cuartos')\n",
    "plt.ylabel('Count')\n",
    "sns.despine"
   ]
  },
  {
   "cell_type": "code",
   "execution_count": 72,
   "metadata": {},
   "outputs": [
    {
     "data": {
      "image/png": "[encoded data removed]",
      "text/plain": [
       "<Figure size 432x288 with 1 Axes>"
      ]
     },
     "metadata": {
      "needs_background": "light"
     },
     "output_type": "display_data"
    },
    {
     "data": {
      "text/plain": [
       "<function seaborn.utils.despine(fig=None, ax=None, top=True, right=True, left=False, bottom=False, offset=None, trim=False)>"
      ]
     },
     "execution_count": 72,
     "metadata": {},
     "output_type": "execute_result"
    }
   ],
   "source": [
    "plt.scatter(data.Cuartos,data.Precio)\n",
    "plt.title(\"Bedroom and Price \")\n",
    "plt.xlabel(\"Bedrooms\")\n",
    "plt.ylabel(\"Price\")\n",
    "plt.show()\n",
    "sns.despine"
   ]
  },
  {
   "cell_type": "code",
   "execution_count": 73,
   "metadata": {},
   "outputs": [],
   "source": [
    "dfA = data[data.Area_total.notnull()]\n",
    "dfN = data[data.Area_total.isnull()]"
   ]
  },
  {
   "cell_type": "code",
   "execution_count": 74,
   "metadata": {},
   "outputs": [
    {
     "name": "stdout",
     "output_type": "stream",
     "text": [
      "<class 'pandas.core.frame.DataFrame'>\n",
      "Int64Index: 669 entries, 0 to 913\n",
      "Data columns (total 8 columns):\n",
      " #   Column        Non-Null Count  Dtype  \n",
      "---  ------        --------------  -----  \n",
      " 0   Localizacion  669 non-null    object \n",
      " 1   Precio        669 non-null    int32  \n",
      " 2   Cuartos       669 non-null    int32  \n",
      " 3   Baños         669 non-null    int32  \n",
      " 4   Cocheras      669 non-null    int32  \n",
      " 5   Area_total    669 non-null    float64\n",
      " 6   Longitud      669 non-null    float64\n",
      " 7   Latitud       669 non-null    float64\n",
      "dtypes: float64(3), int32(4), object(1)\n",
      "memory usage: 36.6+ KB\n"
     ]
    }
   ],
   "source": [
    "dfA.info()"
   ]
  },
  {
   "cell_type": "code",
   "execution_count": null,
   "metadata": {},
   "outputs": [],
   "source": []
  },
  {
   "cell_type": "code",
   "execution_count": 75,
   "metadata": {},
   "outputs": [
    {
     "data": {
      "image/png": "[encoded data removed]",
      "text/plain": [
       "<Figure size 432x288 with 1 Axes>"
      ]
     },
     "metadata": {
      "needs_background": "light"
     },
     "output_type": "display_data"
    },
    {
     "data": {
      "text/plain": [
       "<function seaborn.utils.despine(fig=None, ax=None, top=True, right=True, left=False, bottom=False, offset=None, trim=False)>"
      ]
     },
     "execution_count": 75,
     "metadata": {},
     "output_type": "execute_result"
    }
   ],
   "source": [
    "plt.scatter(dfA.Area_total,dfA.Precio)\n",
    "plt.title(\"Total area and Price\")\n",
    "plt.xlabel(\"Total area\")\n",
    "plt.ylabel(\"Price\")\n",
    "plt.show()\n",
    "sns.despine"
   ]
  },
  {
   "cell_type": "code",
   "execution_count": 94,
   "metadata": {},
   "outputs": [
    {
     "data": {
      "image/png": "[encoded data removed]",
      "text/plain": [
       "<Figure size 432x288 with 1 Axes>"
      ]
     },
     "metadata": {
      "needs_background": "light"
     },
     "output_type": "display_data"
    },
    {
     "data": {
      "text/plain": [
       "<function seaborn.utils.despine(fig=None, ax=None, top=True, right=True, left=False, bottom=False, offset=None, trim=False)>"
      ]
     },
     "execution_count": 94,
     "metadata": {},
     "output_type": "execute_result"
    }
   ],
   "source": [
    "dfA = dfA[(dfA['Area_total'] < 2000)]\n",
    "plt.scatter(dfA.Area_total,dfA.Precio)\n",
    "plt.title(\"Total area and Price\")\n",
    "plt.xlabel(\"Total area\")\n",
    "plt.ylabel(\"Price\")\n",
    "plt.show()\n",
    "sns.despine"
   ]
  },
  {
   "cell_type": "code",
   "execution_count": 95,
   "metadata": {},
   "outputs": [
    {
     "data": {
      "text/plain": [
       "(array([453., 124.,  40.,  14.,  13.,   4.,   5.,   4.,   1.,   7.]),\n",
       " array([  30. ,  191.2,  352.4,  513.6,  674.8,  836. ,  997.2, 1158.4,\n",
       "        1319.6, 1480.8, 1642. ]),\n",
       " <BarContainer object of 10 artists>)"
      ]
     },
     "execution_count": 95,
     "metadata": {},
     "output_type": "execute_result"
    },
    {
     "data": {
      "image/png": "[encoded data removed]",
      "text/plain": [
       "<Figure size 432x288 with 1 Axes>"
      ]
     },
     "metadata": {
      "needs_background": "light"
     },
     "output_type": "display_data"
    }
   ],
   "source": [
    "plt.hist(dfA['Area_total'])"
   ]
  },
  {
   "cell_type": "code",
   "execution_count": 96,
   "metadata": {},
   "outputs": [],
   "source": [
    "X = dfA[['Precio','Cuartos', 'Baños', 'Cocheras']]\n",
    "y = dfA['Area_total']"
   ]
  },
  {
   "cell_type": "code",
   "execution_count": 97,
   "metadata": {},
   "outputs": [],
   "source": [
    "X_train, X_test,Y_train, Y_test = train_test_split(X,y,test_size=0.2, random_state=1)"
   ]
  },
  {
   "cell_type": "code",
   "execution_count": 98,
   "metadata": {},
   "outputs": [
    {
     "data": {
      "text/plain": [
       "LinearRegression()"
      ]
     },
     "execution_count": 98,
     "metadata": {},
     "output_type": "execute_result"
    }
   ],
   "source": [
    "lr = LinearRegression()\n",
    "lr.fit(X_train, Y_train)"
   ]
  },
  {
   "cell_type": "code",
   "execution_count": 99,
   "metadata": {},
   "outputs": [
    {
     "name": "stdout",
     "output_type": "stream",
     "text": [
      "          Coefficient\n",
      "Precio       0.000025\n",
      "Cuartos     12.480334\n",
      "Baños       13.730200\n",
      "Cocheras    23.291211\n"
     ]
    }
   ],
   "source": [
    "coeff_df = pd.DataFrame(lr.coef_,X.columns,columns=['Coefficient'])\n",
    "print(coeff_df)"
   ]
  },
  {
   "cell_type": "code",
   "execution_count": 100,
   "metadata": {},
   "outputs": [
    {
     "data": {
      "text/plain": [
       "<matplotlib.collections.PathCollection at 0x1b27ec4a8e0>"
      ]
     },
     "execution_count": 100,
     "metadata": {},
     "output_type": "execute_result"
    },
    {
     "data": {
      "image/png": "[encoded data removed]",
      "text/plain": [
       "<Figure size 432x288 with 1 Axes>"
      ]
     },
     "metadata": {
      "needs_background": "light"
     },
     "output_type": "display_data"
    }
   ],
   "source": [
    "predictions = lr.predict(X_test)\n",
    "plt.scatter(Y_test,predictions)"
   ]
  },
  {
   "cell_type": "code",
   "execution_count": 101,
   "metadata": {},
   "outputs": [
    {
     "data": {
      "text/plain": [
       "<AxesSubplot:xlabel='Area_total', ylabel='Count'>"
      ]
     },
     "execution_count": 101,
     "metadata": {},
     "output_type": "execute_result"
    },
    {
     "data": {
      "image/png": "[encoded data removed]",
      "text/plain": [
       "<Figure size 432x288 with 1 Axes>"
      ]
     },
     "metadata": {
      "needs_background": "light"
     },
     "output_type": "display_data"
    }
   ],
   "source": [
    "sns.histplot((Y_test-predictions), bins=50)"
   ]
  },
  {
   "cell_type": "code",
   "execution_count": 102,
   "metadata": {},
   "outputs": [
    {
     "name": "stdout",
     "output_type": "stream",
     "text": [
      "Mean Absolute Error: 87.84911733237513\n",
      "Mean Squared Error: 43160.34629644989\n",
      "Root Mean Squared Error: 207.750683022824\n"
     ]
    }
   ],
   "source": [
    "print('Mean Absolute Error:', metrics.mean_absolute_error(Y_test, predictions))\n",
    "print('Mean Squared Error:', metrics.mean_squared_error(Y_test, predictions))\n",
    "print('Root Mean Squared Error:', np.sqrt(metrics.mean_squared_error(Y_test, predictions)))"
   ]
  },
  {
   "cell_type": "code",
   "execution_count": 104,
   "metadata": {},
   "outputs": [],
   "source": [
    "dfN['Area_total'] = (dfN['Precio'] *  0.000025) + (dfN['Cuartos'] * 12.480334) + \\\n",
    "(dfN['Baños'] * 13.730200) + (dfN['Cocheras'] * 23.291211)\n"
   ]
  },
  {
   "cell_type": "code",
   "execution_count": 105,
   "metadata": {},
   "outputs": [
    {
     "name": "stdout",
     "output_type": "stream",
     "text": [
      "<class 'pandas.core.frame.DataFrame'>\n",
      "Int64Index: 243 entries, 9 to 914\n",
      "Data columns (total 8 columns):\n",
      " #   Column        Non-Null Count  Dtype  \n",
      "---  ------        --------------  -----  \n",
      " 0   Localizacion  243 non-null    object \n",
      " 1   Precio        243 non-null    int32  \n",
      " 2   Cuartos       243 non-null    int32  \n",
      " 3   Baños         243 non-null    int32  \n",
      " 4   Cocheras      243 non-null    int32  \n",
      " 5   Area_total    243 non-null    float64\n",
      " 6   Longitud      243 non-null    float64\n",
      " 7   Latitud       243 non-null    float64\n",
      "dtypes: float64(3), int32(4), object(1)\n",
      "memory usage: 13.3+ KB\n"
     ]
    }
   ],
   "source": [
    "dfN.info()"
   ]
  },
  {
   "cell_type": "code",
   "execution_count": 106,
   "metadata": {},
   "outputs": [
    {
     "data": {
      "text/html": [
       "<div>\n",
       "<style scoped>\n",
       "    .dataframe tbody tr th:only-of-type {\n",
       "        vertical-align: middle;\n",
       "    }\n",
       "\n",
       "    .dataframe tbody tr th {\n",
       "        vertical-align: top;\n",
       "    }\n",
       "\n",
       "    .dataframe thead th {\n",
       "        text-align: right;\n",
       "    }\n",
       "</style>\n",
       "<table border=\"1\" class=\"dataframe\">\n",
       "  <thead>\n",
       "    <tr style=\"text-align: right;\">\n",
       "      <th></th>\n",
       "      <th>Localizacion</th>\n",
       "      <th>Precio</th>\n",
       "      <th>Cuartos</th>\n",
       "      <th>Baños</th>\n",
       "      <th>Cocheras</th>\n",
       "      <th>Area_total</th>\n",
       "      <th>Longitud</th>\n",
       "      <th>Latitud</th>\n",
       "    </tr>\n",
       "  </thead>\n",
       "  <tbody>\n",
       "    <tr>\n",
       "      <th>9</th>\n",
       "      <td>Paseos del Bosque</td>\n",
       "      <td>15900000</td>\n",
       "      <td>4</td>\n",
       "      <td>4</td>\n",
       "      <td>4</td>\n",
       "      <td>595.506980</td>\n",
       "      <td>-100.445818</td>\n",
       "      <td>20.555883</td>\n",
       "    </tr>\n",
       "    <tr>\n",
       "      <th>10</th>\n",
       "      <td>Lomas de Tecamac</td>\n",
       "      <td>912590</td>\n",
       "      <td>3</td>\n",
       "      <td>1</td>\n",
       "      <td>1</td>\n",
       "      <td>97.277163</td>\n",
       "      <td>-98.995086</td>\n",
       "      <td>19.660755</td>\n",
       "    </tr>\n",
       "    <tr>\n",
       "      <th>15</th>\n",
       "      <td>Tecámac Centro</td>\n",
       "      <td>1794190</td>\n",
       "      <td>3</td>\n",
       "      <td>2</td>\n",
       "      <td>2</td>\n",
       "      <td>156.338574</td>\n",
       "      <td>-98.968354</td>\n",
       "      <td>19.711501</td>\n",
       "    </tr>\n",
       "    <tr>\n",
       "      <th>17</th>\n",
       "      <td>Hacienda de las Palmas</td>\n",
       "      <td>4199000</td>\n",
       "      <td>2</td>\n",
       "      <td>2</td>\n",
       "      <td>1</td>\n",
       "      <td>180.687279</td>\n",
       "      <td>-99.215892</td>\n",
       "      <td>0.000000</td>\n",
       "    </tr>\n",
       "    <tr>\n",
       "      <th>19</th>\n",
       "      <td>Hacienda de las Palmas</td>\n",
       "      <td>5000000</td>\n",
       "      <td>2</td>\n",
       "      <td>2</td>\n",
       "      <td>3</td>\n",
       "      <td>247.294701</td>\n",
       "      <td>0.000000</td>\n",
       "      <td>0.000000</td>\n",
       "    </tr>\n",
       "  </tbody>\n",
       "</table>\n",
       "</div>"
      ],
      "text/plain": [
       "              Localizacion    Precio  Cuartos  Baños  Cocheras  Area_total  \\\n",
       "9        Paseos del Bosque  15900000        4      4         4  595.506980   \n",
       "10        Lomas de Tecamac    912590        3      1         1   97.277163   \n",
       "15          Tecámac Centro   1794190        3      2         2  156.338574   \n",
       "17  Hacienda de las Palmas   4199000        2      2         1  180.687279   \n",
       "19  Hacienda de las Palmas   5000000        2      2         3  247.294701   \n",
       "\n",
       "      Longitud    Latitud  \n",
       "9  -100.445818  20.555883  \n",
       "10  -98.995086  19.660755  \n",
       "15  -98.968354  19.711501  \n",
       "17  -99.215892   0.000000  \n",
       "19    0.000000   0.000000  "
      ]
     },
     "execution_count": 106,
     "metadata": {},
     "output_type": "execute_result"
    }
   ],
   "source": [
    "dfN.head()"
   ]
  },
  {
   "cell_type": "code",
   "execution_count": 107,
   "metadata": {},
   "outputs": [
    {
     "data": {
      "image/png": "[encoded data removed]",
      "text/plain": [
       "<Figure size 432x288 with 1 Axes>"
      ]
     },
     "metadata": {
      "needs_background": "light"
     },
     "output_type": "display_data"
    },
    {
     "data": {
      "text/plain": [
       "<function seaborn.utils.despine(fig=None, ax=None, top=True, right=True, left=False, bottom=False, offset=None, trim=False)>"
      ]
     },
     "execution_count": 107,
     "metadata": {},
     "output_type": "execute_result"
    }
   ],
   "source": [
    "dfN = dfN[(dfN['Area_total'] < 20000)]\n",
    "plt.scatter(dfN.Area_total,dfN.Precio)\n",
    "plt.title(\"Total area and Price\")\n",
    "plt.xlabel(\"Total area\")\n",
    "plt.ylabel(\"Price\")\n",
    "plt.show()\n",
    "sns.despine"
   ]
  },
  {
   "cell_type": "code",
   "execution_count": 108,
   "metadata": {},
   "outputs": [
    {
     "data": {
      "text/plain": [
       "(array([73., 77., 39., 19., 18.,  6.,  6.,  2.,  2.,  1.]),\n",
       " array([ 14.375    , 102.1736802, 189.9723604, 277.7710406, 365.5697208,\n",
       "        453.368401 , 541.1670812, 628.9657614, 716.7644416, 804.5631218,\n",
       "        892.361802 ]),\n",
       " <BarContainer object of 10 artists>)"
      ]
     },
     "execution_count": 108,
     "metadata": {},
     "output_type": "execute_result"
    },
    {
     "data": {
      "image/png": "[encoded data removed]",
      "text/plain": [
       "<Figure size 432x288 with 1 Axes>"
      ]
     },
     "metadata": {
      "needs_background": "light"
     },
     "output_type": "display_data"
    }
   ],
   "source": [
    "plt.hist(dfN['Area_total'])"
   ]
  }
 ],
 "metadata": {
  "interpreter": {
   "hash": "438727c8858bc46e257ba69863512eb04c8e9f5db9a1c7102296af502b4092eb"
  },
  "kernelspec": {
   "display_name": "Python 3.8.10 64-bit",
   "language": "python",
   "name": "python3"
  },
  "language_info": {
   "codemirror_mode": {
    "name": "ipython",
    "version": 3
   },
   "file_extension": ".py",
   "mimetype": "text/x-python",
   "name": "python",
   "nbconvert_exporter": "python",
   "pygments_lexer": "ipython3",
   "version": "3.8.10"
  },
  "orig_nbformat": 4
 },
 "nbformat": 4,
 "nbformat_minor": 2
}
